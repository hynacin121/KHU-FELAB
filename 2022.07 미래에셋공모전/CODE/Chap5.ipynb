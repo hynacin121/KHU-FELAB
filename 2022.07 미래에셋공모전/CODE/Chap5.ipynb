{
 "cells": [
  {
   "cell_type": "code",
   "execution_count": 1,
   "metadata": {},
   "outputs": [],
   "source": [
    "import numpy as np\n",
    "import pandas as pd\n",
    "import matplotlib.pyplot as plt\n",
    "%matplotlib inline\n",
    "try:\n",
    "    import pandas_datareader as web\n",
    "    import cvxopt as opt\n",
    "    from cvxopt import solvers    \n",
    "    from scipy import optimize as op\n",
    "\n",
    "\n",
    "except:\n",
    "    !pip install pandas_datareader \n",
    "    !pip install cvxopt\n",
    "    import pandas_datareader as web\n",
    "    ! pip install scipy\n",
    "    from scipy import optimize as op\n"
   ]
  },
  {
   "cell_type": "code",
   "execution_count": 2,
   "metadata": {},
   "outputs": [],
   "source": [
    "ticker = ['AAPL', 'GOOGL', 'MSFT', 'AMZN', 'TSLA']\n",
    "start_date = '2010-06-29'\n",
    "end_date = '2015-06-30'"
   ]
  },
  {
   "cell_type": "code",
   "execution_count": 8,
   "metadata": {},
   "outputs": [],
   "source": [
    "data = web.get_data_yahoo(ticker, start_date, end_date)['Adj Close']\n",
    "data_cap = web.get_quote_yahoo(ticker)['marketCap']\n",
    "\n",
    "ret = data.pct_change().dropna()"
   ]
  },
  {
   "cell_type": "code",
   "execution_count": 10,
   "metadata": {},
   "outputs": [
    {
     "data": {
      "text/plain": [
       "AAPL     0.311083\n",
       "GOOGL    0.191591\n",
       "MSFT     0.247067\n",
       "AMZN     0.153089\n",
       "TSLA     0.097170\n",
       "Name: marketCap, dtype: float64"
      ]
     },
     "execution_count": 10,
     "metadata": {},
     "output_type": "execute_result"
    }
   ],
   "source": [
    "wgt_mkt = data_cap/data_cap.sum()\n",
    "cov_mkt = ret.cov()\n",
    "\n",
    "rf = 0.019\n"
   ]
  },
  {
   "cell_type": "code",
   "execution_count": 11,
   "metadata": {},
   "outputs": [],
   "source": [
    "view = [('AAPL', 'AMZN', 0.05), ('GOOGL', 'MSFT', 0.02)]"
   ]
  },
  {
   "cell_type": "code",
   "execution_count": 24,
   "metadata": {},
   "outputs": [],
   "source": [
    "TickerToIndex = dict()\n",
    "for i, n in enumerate(ticker):\n",
    "        TickerToIndex[n] = i\n"
   ]
  },
  {
   "cell_type": "code",
   "execution_count": 27,
   "metadata": {},
   "outputs": [
    {
     "data": {
      "text/plain": [
       "0"
      ]
     },
     "execution_count": 27,
     "metadata": {},
     "output_type": "execute_result"
    }
   ],
   "source": [
    "TickerToIndex['AAPL']"
   ]
  },
  {
   "cell_type": "code",
   "execution_count": 66,
   "metadata": {},
   "outputs": [],
   "source": [
    "def MatrixQP(view, ticker):\n",
    "    r, c = len(view), len(ticker)\n",
    "    Q = np.zeros([r])\n",
    "    for i in range(r):\n",
    "        Q[i] = view[i][2]\n",
    "\n",
    "    TickerToIndex = dict()\n",
    "    for i, n in enumerate(ticker):\n",
    "        TickerToIndex[n] = i\n",
    "\n",
    "    P = np.zeros([r,c])\n",
    "\n",
    "    for i in range(r):\n",
    "        P[i, TickerToIndex[view[i][0]]] = 1\n",
    "        P[i, TickerToIndex[view[i][1]]] = -1\n",
    "\n",
    "    return Q, P\n",
    "        \n",
    "\n",
    "def omega(tau, P, cov):\n",
    "    return (np.dot(np.dot(np.dot(tau, P), cov), P.transpose()))"
   ]
  },
  {
   "cell_type": "code",
   "execution_count": 67,
   "metadata": {},
   "outputs": [],
   "source": [
    "Q, P = MatrixQP(view, ticker)"
   ]
  },
  {
   "cell_type": "code",
   "execution_count": 71,
   "metadata": {},
   "outputs": [],
   "source": [
    "omg = omega(0.025, P, cov_mkt)\n"
   ]
  },
  {
   "cell_type": "markdown",
   "metadata": {},
   "source": [
    "$$\n",
    "\\max \\sum_{i=1}{n}w^T \\mu  - \\frac12 w^T \\Sigma w \\\\\n",
    "s.t. \\ \\sum{i=1}{n}w_i = 1\n",
    "\n",
    "$$"
   ]
  }
 ],
 "metadata": {
  "kernelspec": {
   "display_name": "Python 3.9.12 ('my_env')",
   "language": "python",
   "name": "python3"
  },
  "language_info": {
   "codemirror_mode": {
    "name": "ipython",
    "version": 3
   },
   "file_extension": ".py",
   "mimetype": "text/x-python",
   "name": "python",
   "nbconvert_exporter": "python",
   "pygments_lexer": "ipython3",
   "version": "3.9.12"
  },
  "orig_nbformat": 4,
  "vscode": {
   "interpreter": {
    "hash": "d40c8f14629052a194a23b4be21cb2ceefcd83b4215d9c0c95bb57e69fb1189f"
   }
  }
 },
 "nbformat": 4,
 "nbformat_minor": 2
}
