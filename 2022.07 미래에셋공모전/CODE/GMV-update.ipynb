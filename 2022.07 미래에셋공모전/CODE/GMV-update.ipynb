{
 "cells": [
  {
   "cell_type": "code",
   "execution_count": 1,
   "metadata": {},
   "outputs": [],
   "source": [
    "%load_ext autoreload\n",
    "%autoreload 2\n",
    "\n",
    "import matplotlib.pyplot as plt\n",
    "%matplotlib inline\n",
    "\n",
    "import finance_function as fin\n"
   ]
  },
  {
   "cell_type": "code",
   "execution_count": 14,
   "metadata": {},
   "outputs": [],
   "source": [
    "#GMV Portfolio\n",
    "\n",
    "ticker = ['AAPL', 'GOOGL', 'MSFT', 'AMZN', 'TSLA']\n",
    "start_date = '2010-06-29'\n",
    "end_date = '2022-06-30'\n",
    "data, ret = fin.dataread(ticker, start_date, end_date)\n",
    "data = data/data.iloc[0] * 100\n",
    "rf_rate = 0.019"
   ]
  },
  {
   "cell_type": "code",
   "execution_count": 66,
   "metadata": {},
   "outputs": [],
   "source": [
    "eff = fin.feasible_set(ret, 2000, rf_rate)\n",
    "\n",
    "gmv_feas = fin.gmv_feasible(eff)\n",
    "tgt_feas = fin.target_feasible(eff, 0.3)\n"
   ]
  },
  {
   "cell_type": "code",
   "execution_count": 91,
   "metadata": {},
   "outputs": [],
   "source": [
    "tgt_port = fin.target_portfolio(ret, 0.3)\n",
    "gmv_port = fin.gmvportfolio(ret)\n",
    "\n",
    "gmv_opt = fin.portfolio_result(gmv_port, ret, rf_rate)\n",
    "tgt_opt = fin.portfolio_result(tgt_port, ret, rf_rate)"
   ]
  },
  {
   "cell_type": "code",
   "execution_count": 92,
   "metadata": {},
   "outputs": [],
   "source": [
    "gmv_compare= fin.compare_feas_opt(gmv_feas, gmv_opt)\n",
    "tgt_compare= fin.compare_feas_opt(tgt_feas, tgt_opt)\n"
   ]
  },
  {
   "cell_type": "code",
   "execution_count": 94,
   "metadata": {},
   "outputs": [
    {
     "data": {
      "text/html": [
       "<div>\n",
       "<style scoped>\n",
       "    .dataframe tbody tr th:only-of-type {\n",
       "        vertical-align: middle;\n",
       "    }\n",
       "\n",
       "    .dataframe tbody tr th {\n",
       "        vertical-align: top;\n",
       "    }\n",
       "\n",
       "    .dataframe thead th {\n",
       "        text-align: right;\n",
       "    }\n",
       "</style>\n",
       "<table border=\"1\" class=\"dataframe\">\n",
       "  <thead>\n",
       "    <tr style=\"text-align: right;\">\n",
       "      <th></th>\n",
       "      <th>Returns</th>\n",
       "      <th>Stds</th>\n",
       "      <th>Sharpe</th>\n",
       "      <th>Tangent</th>\n",
       "      <th>AAPL</th>\n",
       "      <th>GOOGL</th>\n",
       "      <th>MSFT</th>\n",
       "      <th>AMZN</th>\n",
       "      <th>TSLA</th>\n",
       "    </tr>\n",
       "  </thead>\n",
       "  <tbody>\n",
       "    <tr>\n",
       "      <th>feas</th>\n",
       "      <td>0.256657</td>\n",
       "      <td>0.226084</td>\n",
       "      <td>1.135226</td>\n",
       "      <td>1.051186</td>\n",
       "      <td>0.249080</td>\n",
       "      <td>0.304583</td>\n",
       "      <td>0.340512</td>\n",
       "      <td>0.102053</td>\n",
       "      <td>0.003772</td>\n",
       "    </tr>\n",
       "    <tr>\n",
       "      <th>opt</th>\n",
       "      <td>0.254565</td>\n",
       "      <td>0.225984</td>\n",
       "      <td>1.126474</td>\n",
       "      <td>1.042397</td>\n",
       "      <td>0.246693</td>\n",
       "      <td>0.305481</td>\n",
       "      <td>0.363228</td>\n",
       "      <td>0.084598</td>\n",
       "      <td>0.000000</td>\n",
       "    </tr>\n",
       "  </tbody>\n",
       "</table>\n",
       "</div>"
      ],
      "text/plain": [
       "       Returns      Stds    Sharpe   Tangent      AAPL     GOOGL      MSFT  \\\n",
       "feas  0.256657  0.226084  1.135226  1.051186  0.249080  0.304583  0.340512   \n",
       "opt   0.254565  0.225984  1.126474  1.042397  0.246693  0.305481  0.363228   \n",
       "\n",
       "          AMZN      TSLA  \n",
       "feas  0.102053  0.003772  \n",
       "opt   0.084598  0.000000  "
      ]
     },
     "execution_count": 94,
     "metadata": {},
     "output_type": "execute_result"
    }
   ],
   "source": [
    "gmv_compare"
   ]
  },
  {
   "cell_type": "code",
   "execution_count": 95,
   "metadata": {},
   "outputs": [
    {
     "data": {
      "text/html": [
       "<div>\n",
       "<style scoped>\n",
       "    .dataframe tbody tr th:only-of-type {\n",
       "        vertical-align: middle;\n",
       "    }\n",
       "\n",
       "    .dataframe tbody tr th {\n",
       "        vertical-align: top;\n",
       "    }\n",
       "\n",
       "    .dataframe thead th {\n",
       "        text-align: right;\n",
       "    }\n",
       "</style>\n",
       "<table border=\"1\" class=\"dataframe\">\n",
       "  <thead>\n",
       "    <tr style=\"text-align: right;\">\n",
       "      <th></th>\n",
       "      <th>Returns</th>\n",
       "      <th>Stds</th>\n",
       "      <th>Sharpe</th>\n",
       "      <th>Tangent</th>\n",
       "      <th>AAPL</th>\n",
       "      <th>GOOGL</th>\n",
       "      <th>MSFT</th>\n",
       "      <th>AMZN</th>\n",
       "      <th>TSLA</th>\n",
       "    </tr>\n",
       "  </thead>\n",
       "  <tbody>\n",
       "    <tr>\n",
       "      <th>feas</th>\n",
       "      <td>0.300004</td>\n",
       "      <td>0.238617</td>\n",
       "      <td>1.257262</td>\n",
       "      <td>1.177636</td>\n",
       "      <td>0.191919</td>\n",
       "      <td>0.215527</td>\n",
       "      <td>0.252523</td>\n",
       "      <td>0.222251</td>\n",
       "      <td>0.117779</td>\n",
       "    </tr>\n",
       "    <tr>\n",
       "      <th>opt</th>\n",
       "      <td>0.300000</td>\n",
       "      <td>0.236773</td>\n",
       "      <td>1.267034</td>\n",
       "      <td>1.186788</td>\n",
       "      <td>0.271592</td>\n",
       "      <td>0.142707</td>\n",
       "      <td>0.321228</td>\n",
       "      <td>0.149472</td>\n",
       "      <td>0.115002</td>\n",
       "    </tr>\n",
       "  </tbody>\n",
       "</table>\n",
       "</div>"
      ],
      "text/plain": [
       "       Returns      Stds    Sharpe   Tangent      AAPL     GOOGL      MSFT  \\\n",
       "feas  0.300004  0.238617  1.257262  1.177636  0.191919  0.215527  0.252523   \n",
       "opt   0.300000  0.236773  1.267034  1.186788  0.271592  0.142707  0.321228   \n",
       "\n",
       "          AMZN      TSLA  \n",
       "feas  0.222251  0.117779  \n",
       "opt   0.149472  0.115002  "
      ]
     },
     "execution_count": 95,
     "metadata": {},
     "output_type": "execute_result"
    }
   ],
   "source": [
    "tgt_compare"
   ]
  }
 ],
 "metadata": {
  "kernelspec": {
   "display_name": "Python 3.9.12 ('my_env')",
   "language": "python",
   "name": "python3"
  },
  "language_info": {
   "codemirror_mode": {
    "name": "ipython",
    "version": 3
   },
   "file_extension": ".py",
   "mimetype": "text/x-python",
   "name": "python",
   "nbconvert_exporter": "python",
   "pygments_lexer": "ipython3",
   "version": "3.9.12"
  },
  "orig_nbformat": 4,
  "vscode": {
   "interpreter": {
    "hash": "d40c8f14629052a194a23b4be21cb2ceefcd83b4215d9c0c95bb57e69fb1189f"
   }
  }
 },
 "nbformat": 4,
 "nbformat_minor": 2
}
