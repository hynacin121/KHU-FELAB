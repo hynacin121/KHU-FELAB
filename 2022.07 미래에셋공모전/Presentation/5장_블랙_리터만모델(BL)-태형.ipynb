{
  "nbformat": 4,
  "nbformat_minor": 0,
  "metadata": {
    "colab": {
      "name": "5장 블랙-리터만모델(BL)의 사본",
      "provenance": [],
      "collapsed_sections": []
    },
    "kernelspec": {
      "name": "python3",
      "display_name": "Python 3"
    }
  },
  "cells": [
    {
      "cell_type": "code",
      "source": [
        "! pip install yfinance\n"
      ],
      "metadata": {
        "id": "FxKtL-U75KZ5",
        "colab": {
          "base_uri": "https://localhost:8080/"
        },
        "outputId": "872316f7-0059-447a-944a-501559882a5f"
      },
      "execution_count": null,
      "outputs": [
        {
          "output_type": "stream",
          "name": "stdout",
          "text": [
            "Looking in indexes: https://pypi.org/simple, https://us-python.pkg.dev/colab-wheels/public/simple/\n",
            "Collecting yfinance\n",
            "  Downloading yfinance-0.1.74-py2.py3-none-any.whl (27 kB)\n",
            "Requirement already satisfied: numpy>=1.15 in /usr/local/lib/python3.7/dist-packages (from yfinance) (1.21.6)\n",
            "Requirement already satisfied: multitasking>=0.0.7 in /usr/local/lib/python3.7/dist-packages (from yfinance) (0.0.11)\n",
            "Requirement already satisfied: pandas>=0.24.0 in /usr/local/lib/python3.7/dist-packages (from yfinance) (1.3.5)\n",
            "Collecting requests>=2.26\n",
            "  Downloading requests-2.28.1-py3-none-any.whl (62 kB)\n",
            "\u001b[K     |████████████████████████████████| 62 kB 647 kB/s \n",
            "\u001b[?25hCollecting lxml>=4.5.1\n",
            "  Downloading lxml-4.9.1-cp37-cp37m-manylinux_2_17_x86_64.manylinux2014_x86_64.manylinux_2_24_x86_64.whl (6.4 MB)\n",
            "\u001b[K     |████████████████████████████████| 6.4 MB 32.5 MB/s \n",
            "\u001b[?25hRequirement already satisfied: python-dateutil>=2.7.3 in /usr/local/lib/python3.7/dist-packages (from pandas>=0.24.0->yfinance) (2.8.2)\n",
            "Requirement already satisfied: pytz>=2017.3 in /usr/local/lib/python3.7/dist-packages (from pandas>=0.24.0->yfinance) (2022.1)\n",
            "Requirement already satisfied: six>=1.5 in /usr/local/lib/python3.7/dist-packages (from python-dateutil>=2.7.3->pandas>=0.24.0->yfinance) (1.15.0)\n",
            "Requirement already satisfied: certifi>=2017.4.17 in /usr/local/lib/python3.7/dist-packages (from requests>=2.26->yfinance) (2022.6.15)\n",
            "Requirement already satisfied: charset-normalizer<3,>=2 in /usr/local/lib/python3.7/dist-packages (from requests>=2.26->yfinance) (2.1.0)\n",
            "Requirement already satisfied: idna<4,>=2.5 in /usr/local/lib/python3.7/dist-packages (from requests>=2.26->yfinance) (2.10)\n",
            "Requirement already satisfied: urllib3<1.27,>=1.21.1 in /usr/local/lib/python3.7/dist-packages (from requests>=2.26->yfinance) (1.24.3)\n",
            "Installing collected packages: requests, lxml, yfinance\n",
            "  Attempting uninstall: requests\n",
            "    Found existing installation: requests 2.23.0\n",
            "    Uninstalling requests-2.23.0:\n",
            "      Successfully uninstalled requests-2.23.0\n",
            "  Attempting uninstall: lxml\n",
            "    Found existing installation: lxml 4.2.6\n",
            "    Uninstalling lxml-4.2.6:\n",
            "      Successfully uninstalled lxml-4.2.6\n",
            "\u001b[31mERROR: pip's dependency resolver does not currently take into account all the packages that are installed. This behaviour is the source of the following dependency conflicts.\n",
            "google-colab 1.0.0 requires requests~=2.23.0, but you have requests 2.28.1 which is incompatible.\n",
            "datascience 0.10.6 requires folium==0.2.1, but you have folium 0.8.3 which is incompatible.\u001b[0m\n",
            "Successfully installed lxml-4.9.1 requests-2.28.1 yfinance-0.1.74\n"
          ]
        }
      ]
    },
    {
      "cell_type": "code",
      "source": [
        "import yfinance as yf\n",
        "import datetime as dt\n",
        "import pandas_datareader.data as web"
      ],
      "metadata": {
        "id": "6iDNojUT9qXL"
      },
      "execution_count": null,
      "outputs": []
    },
    {
      "cell_type": "code",
      "source": [
        "!pip install -U finance-datareader\n",
        "import FinanceDataReader as fdr"
      ],
      "metadata": {
        "id": "lnLm4yb0BLoS",
        "colab": {
          "base_uri": "https://localhost:8080/"
        },
        "outputId": "fc8fd8cd-f35d-4ef9-c6af-4d3b56978a6c"
      },
      "execution_count": null,
      "outputs": [
        {
          "output_type": "stream",
          "name": "stdout",
          "text": [
            "Looking in indexes: https://pypi.org/simple, https://us-python.pkg.dev/colab-wheels/public/simple/\n",
            "Collecting finance-datareader\n",
            "  Downloading finance_datareader-0.9.34-py3-none-any.whl (17 kB)\n",
            "Requirement already satisfied: requests>=2.3.0 in /usr/local/lib/python3.7/dist-packages (from finance-datareader) (2.28.1)\n",
            "Requirement already satisfied: pandas>=0.19.2 in /usr/local/lib/python3.7/dist-packages (from finance-datareader) (1.3.5)\n",
            "Collecting requests-file\n",
            "  Downloading requests_file-1.5.1-py2.py3-none-any.whl (3.7 kB)\n",
            "Requirement already satisfied: lxml in /usr/local/lib/python3.7/dist-packages (from finance-datareader) (4.9.1)\n",
            "Requirement already satisfied: tqdm in /usr/local/lib/python3.7/dist-packages (from finance-datareader) (4.64.0)\n",
            "Requirement already satisfied: numpy>=1.17.3 in /usr/local/lib/python3.7/dist-packages (from pandas>=0.19.2->finance-datareader) (1.21.6)\n",
            "Requirement already satisfied: pytz>=2017.3 in /usr/local/lib/python3.7/dist-packages (from pandas>=0.19.2->finance-datareader) (2022.1)\n",
            "Requirement already satisfied: python-dateutil>=2.7.3 in /usr/local/lib/python3.7/dist-packages (from pandas>=0.19.2->finance-datareader) (2.8.2)\n",
            "Requirement already satisfied: six>=1.5 in /usr/local/lib/python3.7/dist-packages (from python-dateutil>=2.7.3->pandas>=0.19.2->finance-datareader) (1.15.0)\n",
            "Requirement already satisfied: charset-normalizer<3,>=2 in /usr/local/lib/python3.7/dist-packages (from requests>=2.3.0->finance-datareader) (2.1.0)\n",
            "Requirement already satisfied: idna<4,>=2.5 in /usr/local/lib/python3.7/dist-packages (from requests>=2.3.0->finance-datareader) (2.10)\n",
            "Requirement already satisfied: urllib3<1.27,>=1.21.1 in /usr/local/lib/python3.7/dist-packages (from requests>=2.3.0->finance-datareader) (1.24.3)\n",
            "Requirement already satisfied: certifi>=2017.4.17 in /usr/local/lib/python3.7/dist-packages (from requests>=2.3.0->finance-datareader) (2022.6.15)\n",
            "Installing collected packages: requests-file, finance-datareader\n",
            "Successfully installed finance-datareader-0.9.34 requests-file-1.5.1\n"
          ]
        }
      ]
    },
    {
      "cell_type": "code",
      "source": [
        "! pip install --upgrade pandas\n",
        "! pip install --upgrade pandas-datareader\n"
      ],
      "metadata": {
        "colab": {
          "base_uri": "https://localhost:8080/",
          "height": 619
        },
        "id": "6TFy8Xze5iXl",
        "outputId": "a11c07b1-0a15-417f-ae5e-55eb7f2a669b"
      },
      "execution_count": null,
      "outputs": [
        {
          "output_type": "stream",
          "name": "stdout",
          "text": [
            "Looking in indexes: https://pypi.org/simple, https://us-python.pkg.dev/colab-wheels/public/simple/\n",
            "Requirement already satisfied: pandas in /usr/local/lib/python3.7/dist-packages (1.3.5)\n",
            "Requirement already satisfied: pytz>=2017.3 in /usr/local/lib/python3.7/dist-packages (from pandas) (2022.1)\n",
            "Requirement already satisfied: python-dateutil>=2.7.3 in /usr/local/lib/python3.7/dist-packages (from pandas) (2.8.2)\n",
            "Requirement already satisfied: numpy>=1.17.3 in /usr/local/lib/python3.7/dist-packages (from pandas) (1.21.6)\n",
            "Requirement already satisfied: six>=1.5 in /usr/local/lib/python3.7/dist-packages (from python-dateutil>=2.7.3->pandas) (1.15.0)\n",
            "Looking in indexes: https://pypi.org/simple, https://us-python.pkg.dev/colab-wheels/public/simple/\n",
            "Requirement already satisfied: pandas-datareader in /usr/local/lib/python3.7/dist-packages (0.9.0)\n",
            "Collecting pandas-datareader\n",
            "  Downloading pandas_datareader-0.10.0-py3-none-any.whl (109 kB)\n",
            "\u001b[K     |████████████████████████████████| 109 kB 3.9 MB/s \n",
            "\u001b[?25hRequirement already satisfied: pandas>=0.23 in /usr/local/lib/python3.7/dist-packages (from pandas-datareader) (1.3.5)\n",
            "Requirement already satisfied: lxml in /usr/local/lib/python3.7/dist-packages (from pandas-datareader) (4.9.1)\n",
            "Requirement already satisfied: requests>=2.19.0 in /usr/local/lib/python3.7/dist-packages (from pandas-datareader) (2.28.1)\n",
            "Requirement already satisfied: python-dateutil>=2.7.3 in /usr/local/lib/python3.7/dist-packages (from pandas>=0.23->pandas-datareader) (2.8.2)\n",
            "Requirement already satisfied: pytz>=2017.3 in /usr/local/lib/python3.7/dist-packages (from pandas>=0.23->pandas-datareader) (2022.1)\n",
            "Requirement already satisfied: numpy>=1.17.3 in /usr/local/lib/python3.7/dist-packages (from pandas>=0.23->pandas-datareader) (1.21.6)\n",
            "Requirement already satisfied: six>=1.5 in /usr/local/lib/python3.7/dist-packages (from python-dateutil>=2.7.3->pandas>=0.23->pandas-datareader) (1.15.0)\n",
            "Requirement already satisfied: certifi>=2017.4.17 in /usr/local/lib/python3.7/dist-packages (from requests>=2.19.0->pandas-datareader) (2022.6.15)\n",
            "Requirement already satisfied: charset-normalizer<3,>=2 in /usr/local/lib/python3.7/dist-packages (from requests>=2.19.0->pandas-datareader) (2.1.0)\n",
            "Requirement already satisfied: idna<4,>=2.5 in /usr/local/lib/python3.7/dist-packages (from requests>=2.19.0->pandas-datareader) (2.10)\n",
            "Requirement already satisfied: urllib3<1.27,>=1.21.1 in /usr/local/lib/python3.7/dist-packages (from requests>=2.19.0->pandas-datareader) (1.24.3)\n",
            "Installing collected packages: pandas-datareader\n",
            "  Attempting uninstall: pandas-datareader\n",
            "    Found existing installation: pandas-datareader 0.9.0\n",
            "    Uninstalling pandas-datareader-0.9.0:\n",
            "      Successfully uninstalled pandas-datareader-0.9.0\n",
            "Successfully installed pandas-datareader-0.10.0\n"
          ]
        },
        {
          "output_type": "display_data",
          "data": {
            "application/vnd.colab-display-data+json": {
              "pip_warning": {
                "packages": [
                  "pandas_datareader"
                ]
              }
            }
          },
          "metadata": {}
        }
      ]
    },
    {
      "cell_type": "code",
      "source": [
        "import pandas_datareader\n",
        "pandas_datareader.__version__"
      ],
      "metadata": {
        "colab": {
          "base_uri": "https://localhost:8080/",
          "height": 35
        },
        "id": "Z53zOyl780vV",
        "outputId": "d523c6e8-959c-4faf-f5ec-86c20db74a07"
      },
      "execution_count": null,
      "outputs": [
        {
          "output_type": "execute_result",
          "data": {
            "text/plain": [
              "'0.9.0'"
            ],
            "application/vnd.google.colaboratory.intrinsic+json": {
              "type": "string"
            }
          },
          "metadata": {},
          "execution_count": 5
        }
      ]
    },
    {
      "cell_type": "code",
      "metadata": {
        "id": "Ki9FERIDLQhw"
      },
      "source": [
        "#%matplotlib inline\n",
        "import matplotlib.pylab as plt"
      ],
      "execution_count": null,
      "outputs": []
    },
    {
      "cell_type": "code",
      "metadata": {
        "id": "M3pZtRPjsYm3"
      },
      "source": [
        "import numpy as np\n",
        "from numpy.linalg import inv\n",
        "import pandas as pd\n",
        "from pandas_datareader import data as web"
      ],
      "execution_count": null,
      "outputs": []
    },
    {
      "cell_type": "code",
      "metadata": {
        "id": "BPu1SPQBSUWS"
      },
      "source": [
        "from scipy.optimize import minimize"
      ],
      "execution_count": null,
      "outputs": []
    },
    {
      "cell_type": "code",
      "metadata": {
        "id": "ggmIBqm7SXeF"
      },
      "source": [
        "# 무위험수익률, 수익률,공분산으로\n",
        "# 샤프비율을 최대로 하는 접점포트폴리오 비중 계산 \n",
        "def solveWeights(R, C, rf):\n",
        "    \n",
        "    # 파이썬은 함수안에 함수를 정의할 수 있다\n",
        "    # 최적비중계산을 위해 다음과 같이 목적함수를 정의한다\n",
        "    def obj(W, R, C, rf):\n",
        "        mean = sum(R * W)\n",
        "        var = np.dot(np.dot(W, C), W)\n",
        "        #샤프비율을 효용함수로 한다\n",
        "        util = (mean - rf) / np.sqrt(var) \n",
        "        # 효용함수 극대화= 효용함수 역함수를 최소화하는 것이다.\n",
        "        return 1 / util  \n",
        "\n",
        "    n = len(R)  # 투자자산 갯수\n",
        "\n",
        "    # 동일비중으로 최적화 시작\n",
        "    W = np.ones([n]) / n  \n",
        "    # 비중범위는 0~100%사이(공매도나 차입조건이 없음)\n",
        "    bnds = [(0., 1.) for i in range(n)]  \n",
        "    # 제약조건은 비중합=100%\n",
        "    cons = ({'type': 'eq', 'fun': lambda W: sum(W) - 1.}) \n",
        "    # 최적화\n",
        "    res = minimize(obj, W, (R, C, rf), method='SLSQP', constraints=cons, bounds=bnds)\n",
        "    if not res.success:\n",
        "      # 최적화 실패한 경우 \n",
        "      raise BaseException(res.message)\n",
        "    # 최적화 결과를 돌려준다  \n",
        "    return res.x"
      ],
      "execution_count": null,
      "outputs": []
    },
    {
      "cell_type": "code",
      "metadata": {
        "id": "Yp7Cfrr0SHeM"
      },
      "source": [
        "# 무위험수익률, 수익률,공분산으로 효율적 프런티어 계산\n",
        "def solveFrontier(R, C, rf):\n",
        "\n",
        "    # 파이썬은 함수안에 함수를 정의할 수 있다\n",
        "    # 최적비중계산을 위해 다음과 같이 목적함수를 정의한다\n",
        "    def obj(W, R, C, r):\n",
        "        # 주어진 수익률에서 분산을 최소로 하는 비중 계산\n",
        "        mean = sum(R * W)\n",
        "        var = np.dot(np.dot(W, C), W)\n",
        "        # 최적화 제약조건 페널티\n",
        "        penalty = 100 * abs(mean - r)             \n",
        "        return var + penalty\n",
        "\n",
        "    # 효율적 프론티어를 구성하는 평균-분산을 돌려줄\n",
        "    # 리스트를 미리 준비한다\n",
        "    frontier_mean, frontier_var = [], []\n",
        "\n",
        "    n = len(R)  # 투자자산 갯수\n",
        "\n",
        "    # 수익률 최저~최대 사이를 반복한다\n",
        "    for r in np.linspace(min(R), max(R), num=20):\n",
        "        # 최적화 함수에 전달할 초기값으로 동일비중으로 시작한다\n",
        "        W = np.ones([n]) / n \n",
        "\n",
        "        # 최적화 함수에 전달할 범위조건과 제약조건을 미리 준비한다\n",
        "        # 범위조건: 각 구성자산의 투자비중은 0~100% 사이이며\n",
        "        # 제약조건: 전체 투자비중은 100%이다.\n",
        "        bnds = [(0, 1) for i in range(n)]\n",
        "        cons = ({'type': 'eq', 'fun': lambda W: sum(W) - 1.})\n",
        "        \n",
        "        # 최적화 함수 minimize()은 최적화할 obj함수와 \n",
        "        # 최적화를 시작할 초깃값을 인수로 받는다.         \n",
        "        res = minimize(obj, W, (R, C, r), method='SLSQP', constraints=cons, bounds=bnds)\n",
        "        if not res.success:\n",
        "            # 최적화에 실패한 경우\n",
        "            raise BaseException(res.message)\n",
        "        \n",
        "        # 효율적 프런티어 평균과 분산리스트에 \n",
        "        # 최적포트폴리오 수익률과 분산 추가\n",
        "        frontier_mean.append(r)\n",
        "        frontier_var.append(np.dot(np.dot(res.x, C), res.x))\n",
        "    return np.array(frontier_mean), np.array(frontier_var)"
      ],
      "execution_count": null,
      "outputs": []
    },
    {
      "cell_type": "code",
      "metadata": {
        "id": "AYd_sKYfSbA7"
      },
      "source": [
        "# 효율적 포트폴리오 최적화        \n",
        "def optimize_frontier(R, C, rf):\n",
        "\n",
        "    # 접점포트폴리오 계산\n",
        "    W = solveWeights(R, C, rf)\n",
        "    # 투자비중으로 계산한 평균과 분산\n",
        "    tan_mean = sum(R * W)\n",
        "    tan_var = np.dot(np.dot(W, C), W)    \n",
        "\n",
        "    # 효율적 포트폴리오 계산\n",
        "    eff_mean, eff_var = solveFrontier(R, C, rf)\n",
        "\n",
        "    # 비중, 접점포트폴리오의 평균/분산, 효율적 포트폴리오의 평균/분산을\n",
        "    # 딕셔너리 데이터형으로 돌려준다    \n",
        "    return {'weights':W, 'tan_mean':tan_mean, 'tan_var':tan_var, 'eff_mean':eff_mean, 'eff_var':eff_var}"
      ],
      "execution_count": null,
      "outputs": []
    },
    {
      "cell_type": "code",
      "metadata": {
        "id": "DgaorQ_eUbWV"
      },
      "source": [
        "# 자산에 대한 투자자의 전망과 전망의 기대수익률을 행렬로 만든다\n",
        "def CreateMatrixPQ(names, views):\n",
        "    r, c = len(views), len(names)\n",
        "\n",
        "    # 투자전망과 기대수익률 행렬\n",
        "    # views[i][3]에는 기대수익률을 가리킴\n",
        "    Q = [views[i][3] for i in range(r)]     \n",
        "\n",
        "    # 전망행렬 P를 만들기 위해\n",
        "    # 구성자산 딕셔너리 작성\n",
        "    nameToIndex = dict()    \n",
        "    for i, n in enumerate(names):\n",
        "        nameToIndex[n] = i\n",
        "\n",
        "    # 투자전망 \n",
        "    P = np.zeros([r, c]) \n",
        "    for i, v in enumerate(views):\n",
        "        # 가령 전망이 ('MSFT', '>', 'GE', 0.02) 이라면\n",
        "        # views[i][0] <-- 'MSFT' --> name1\n",
        "        # views[i][1] <-- '>'\n",
        "        # views[i][2] <-- 'GE'   --> name2\n",
        "        # views[i][3] <-- '0.02'\n",
        "        name1, name2 = views[i][0], views[i][2]\n",
        "        P[i, nameToIndex[name1]] = +1 if views[i][1] == '>' else -1\n",
        "        P[i, nameToIndex[name2]] = -1 if views[i][1] == '>' else +1\n",
        "    return np.array(Q), P"
      ],
      "execution_count": null,
      "outputs": []
    },
    {
      "cell_type": "markdown",
      "metadata": {
        "id": "QsQw9HwLspbF"
      },
      "source": [
        "데이터 읽기"
      ]
    },
    {
      "cell_type": "code",
      "metadata": {
        "id": "1SKxyCsYNEgu"
      },
      "source": [
        "tickers=['PFE','INTC','NFLX','JPM','XOM','GOOG','JNJ','AAPL','AMZN']\n",
        "cap = {'PFE':201102000000,'INTC':257259000000,'NFLX':184922000000,\n",
        "       'JPM':272178000000,'XOM':178228000000,'GOOG':866683000000,\n",
        "       'JNJ':403335000000,'AAPL':1208000000000,'AMZN':1178000000000\n",
        "      }\n",
        "prices, caps = [], []\n",
        "\n",
        "for s in tickers:    \n",
        "    pxclose = fdr.DataReader(s,start='01-01-2018', end='31-12-2019')['Close']\n",
        "    prices.append(list(pxclose))  \n",
        "    caps.append(cap[s])"
      ],
      "execution_count": null,
      "outputs": []
    },
    {
      "cell_type": "markdown",
      "metadata": {
        "id": "sdYhhYlRsx40"
      },
      "source": [
        "최적화에 사용할 필요한 값을 미리 계산"
      ]
    },
    {
      "cell_type": "code",
      "metadata": {
        "id": "Zvuu4qJdNfl4"
      },
      "source": [
        "n = len(tickers)\n",
        "W = np.array(caps) / sum(caps) # 시가총액의 비율계산\n",
        "prices = np.matrix(prices)  # prices를 numpy matrix로 변환\n",
        "\n",
        "# 수익률 행렬을 만들어 계산\n",
        "rows, cols = prices.shape\n",
        "returns = np.empty([rows, cols - 1])\n",
        "for r in range(rows):\n",
        "    for c in range(cols - 1):\n",
        "        p0, p1 = prices[r, c], prices[r, c + 1]\n",
        "        returns[r, c] = (p1 / p0) - 1\n",
        "\n",
        "# 수익률계산\n",
        "expreturns = np.array([])\n",
        "for r in range(rows):\n",
        "    expreturns = np.append(expreturns, np.mean(returns[r]))\n",
        "\n",
        "# 공분산계산\n",
        "covars = np.cov(returns)\n",
        "R = (1 + expreturns) ** 250 - 1  # 연율화\n",
        "C = covars * 250  # 연율화\n",
        "\n",
        "# 무위험 이자율\n",
        "rf = .015 "
      ],
      "execution_count": null,
      "outputs": []
    },
    {
      "cell_type": "code",
      "metadata": {
        "id": "dAZgMqYssliH",
        "outputId": "1ea4865e-e431-4270-aa41-3d84f9a2cd08",
        "colab": {
          "base_uri": "https://localhost:8080/"
        }
      },
      "source": [
        "expreturns"
      ],
      "execution_count": null,
      "outputs": [
        {
          "output_type": "execute_result",
          "data": {
            "text/plain": [
              "array([ 0.00021994,  0.00067441,  0.00127811,  0.00059301, -0.00031187,\n",
              "        0.00058909,  0.00016843,  0.00121433,  0.00105963])"
            ]
          },
          "metadata": {},
          "execution_count": 15
        }
      ]
    },
    {
      "cell_type": "code",
      "metadata": {
        "id": "VYJHi2kyQeWU",
        "outputId": "4d9b9136-eb2c-404e-e267-15a3ea5de4b7",
        "colab": {
          "base_uri": "https://localhost:8080/",
          "height": 112
        }
      },
      "source": [
        "display(pd.DataFrame({'Return': R, 'Weight (based on market cap)': W}, index=tickers).T)"
      ],
      "execution_count": null,
      "outputs": [
        {
          "output_type": "display_data",
          "data": {
            "text/plain": [
              "                                   PFE      INTC      NFLX       JPM  \\\n",
              "Return                        0.056518  0.183582  0.376197  0.159754   \n",
              "Weight (based on market cap)  0.042340  0.054163  0.038933  0.057304   \n",
              "\n",
              "                                   XOM      GOOG       JNJ      AAPL      AMZN  \n",
              "Return                       -0.075017  0.158621  0.043003  0.354454  0.303126  \n",
              "Weight (based on market cap)  0.037524  0.182471  0.084918  0.254331  0.248015  "
            ],
            "text/html": [
              "\n",
              "  <div id=\"df-9b01d8d2-e5e7-4345-bcfb-0a4bd7c98aff\">\n",
              "    <div class=\"colab-df-container\">\n",
              "      <div>\n",
              "<style scoped>\n",
              "    .dataframe tbody tr th:only-of-type {\n",
              "        vertical-align: middle;\n",
              "    }\n",
              "\n",
              "    .dataframe tbody tr th {\n",
              "        vertical-align: top;\n",
              "    }\n",
              "\n",
              "    .dataframe thead th {\n",
              "        text-align: right;\n",
              "    }\n",
              "</style>\n",
              "<table border=\"1\" class=\"dataframe\">\n",
              "  <thead>\n",
              "    <tr style=\"text-align: right;\">\n",
              "      <th></th>\n",
              "      <th>PFE</th>\n",
              "      <th>INTC</th>\n",
              "      <th>NFLX</th>\n",
              "      <th>JPM</th>\n",
              "      <th>XOM</th>\n",
              "      <th>GOOG</th>\n",
              "      <th>JNJ</th>\n",
              "      <th>AAPL</th>\n",
              "      <th>AMZN</th>\n",
              "    </tr>\n",
              "  </thead>\n",
              "  <tbody>\n",
              "    <tr>\n",
              "      <th>Return</th>\n",
              "      <td>0.056518</td>\n",
              "      <td>0.183582</td>\n",
              "      <td>0.376197</td>\n",
              "      <td>0.159754</td>\n",
              "      <td>-0.075017</td>\n",
              "      <td>0.158621</td>\n",
              "      <td>0.043003</td>\n",
              "      <td>0.354454</td>\n",
              "      <td>0.303126</td>\n",
              "    </tr>\n",
              "    <tr>\n",
              "      <th>Weight (based on market cap)</th>\n",
              "      <td>0.042340</td>\n",
              "      <td>0.054163</td>\n",
              "      <td>0.038933</td>\n",
              "      <td>0.057304</td>\n",
              "      <td>0.037524</td>\n",
              "      <td>0.182471</td>\n",
              "      <td>0.084918</td>\n",
              "      <td>0.254331</td>\n",
              "      <td>0.248015</td>\n",
              "    </tr>\n",
              "  </tbody>\n",
              "</table>\n",
              "</div>\n",
              "      <button class=\"colab-df-convert\" onclick=\"convertToInteractive('df-9b01d8d2-e5e7-4345-bcfb-0a4bd7c98aff')\"\n",
              "              title=\"Convert this dataframe to an interactive table.\"\n",
              "              style=\"display:none;\">\n",
              "        \n",
              "  <svg xmlns=\"http://www.w3.org/2000/svg\" height=\"24px\"viewBox=\"0 0 24 24\"\n",
              "       width=\"24px\">\n",
              "    <path d=\"M0 0h24v24H0V0z\" fill=\"none\"/>\n",
              "    <path d=\"M18.56 5.44l.94 2.06.94-2.06 2.06-.94-2.06-.94-.94-2.06-.94 2.06-2.06.94zm-11 1L8.5 8.5l.94-2.06 2.06-.94-2.06-.94L8.5 2.5l-.94 2.06-2.06.94zm10 10l.94 2.06.94-2.06 2.06-.94-2.06-.94-.94-2.06-.94 2.06-2.06.94z\"/><path d=\"M17.41 7.96l-1.37-1.37c-.4-.4-.92-.59-1.43-.59-.52 0-1.04.2-1.43.59L10.3 9.45l-7.72 7.72c-.78.78-.78 2.05 0 2.83L4 21.41c.39.39.9.59 1.41.59.51 0 1.02-.2 1.41-.59l7.78-7.78 2.81-2.81c.8-.78.8-2.07 0-2.86zM5.41 20L4 18.59l7.72-7.72 1.47 1.35L5.41 20z\"/>\n",
              "  </svg>\n",
              "      </button>\n",
              "      \n",
              "  <style>\n",
              "    .colab-df-container {\n",
              "      display:flex;\n",
              "      flex-wrap:wrap;\n",
              "      gap: 12px;\n",
              "    }\n",
              "\n",
              "    .colab-df-convert {\n",
              "      background-color: #E8F0FE;\n",
              "      border: none;\n",
              "      border-radius: 50%;\n",
              "      cursor: pointer;\n",
              "      display: none;\n",
              "      fill: #1967D2;\n",
              "      height: 32px;\n",
              "      padding: 0 0 0 0;\n",
              "      width: 32px;\n",
              "    }\n",
              "\n",
              "    .colab-df-convert:hover {\n",
              "      background-color: #E2EBFA;\n",
              "      box-shadow: 0px 1px 2px rgba(60, 64, 67, 0.3), 0px 1px 3px 1px rgba(60, 64, 67, 0.15);\n",
              "      fill: #174EA6;\n",
              "    }\n",
              "\n",
              "    [theme=dark] .colab-df-convert {\n",
              "      background-color: #3B4455;\n",
              "      fill: #D2E3FC;\n",
              "    }\n",
              "\n",
              "    [theme=dark] .colab-df-convert:hover {\n",
              "      background-color: #434B5C;\n",
              "      box-shadow: 0px 1px 3px 1px rgba(0, 0, 0, 0.15);\n",
              "      filter: drop-shadow(0px 1px 2px rgba(0, 0, 0, 0.3));\n",
              "      fill: #FFFFFF;\n",
              "    }\n",
              "  </style>\n",
              "\n",
              "      <script>\n",
              "        const buttonEl =\n",
              "          document.querySelector('#df-9b01d8d2-e5e7-4345-bcfb-0a4bd7c98aff button.colab-df-convert');\n",
              "        buttonEl.style.display =\n",
              "          google.colab.kernel.accessAllowed ? 'block' : 'none';\n",
              "\n",
              "        async function convertToInteractive(key) {\n",
              "          const element = document.querySelector('#df-9b01d8d2-e5e7-4345-bcfb-0a4bd7c98aff');\n",
              "          const dataTable =\n",
              "            await google.colab.kernel.invokeFunction('convertToInteractive',\n",
              "                                                     [key], {});\n",
              "          if (!dataTable) return;\n",
              "\n",
              "          const docLinkHtml = 'Like what you see? Visit the ' +\n",
              "            '<a target=\"_blank\" href=https://colab.research.google.com/notebooks/data_table.ipynb>data table notebook</a>'\n",
              "            + ' to learn more about interactive tables.';\n",
              "          element.innerHTML = '';\n",
              "          dataTable['output_type'] = 'display_data';\n",
              "          await google.colab.output.renderOutput(dataTable, element);\n",
              "          const docLink = document.createElement('div');\n",
              "          docLink.innerHTML = docLinkHtml;\n",
              "          element.appendChild(docLink);\n",
              "        }\n",
              "      </script>\n",
              "    </div>\n",
              "  </div>\n",
              "  "
            ]
          },
          "metadata": {}
        }
      ]
    },
    {
      "cell_type": "code",
      "metadata": {
        "id": "2TM4_aTCQi_S",
        "outputId": "01094fbb-d75e-4386-9cf8-00e29d1c04a2",
        "colab": {
          "base_uri": "https://localhost:8080/",
          "height": 331
        }
      },
      "source": [
        "display(pd.DataFrame(C, columns=tickers, index=tickers))"
      ],
      "execution_count": null,
      "outputs": [
        {
          "output_type": "display_data",
          "data": {
            "text/plain": [
              "           PFE      INTC      NFLX       JPM       XOM      GOOG       JNJ  \\\n",
              "PFE   0.037543  0.021828  0.026271  0.015839  0.015486  0.018360  0.018020   \n",
              "INTC  0.021828  0.093382  0.054225  0.029801  0.027344  0.039652  0.017019   \n",
              "NFLX  0.026271  0.054225  0.165240  0.031690  0.027875  0.060178  0.020651   \n",
              "JPM   0.015839  0.029801  0.031690  0.041830  0.022273  0.028060  0.014182   \n",
              "XOM   0.015486  0.027344  0.027875  0.022273  0.040852  0.024208  0.014009   \n",
              "GOOG  0.018360  0.039652  0.060178  0.028060  0.024208  0.068046  0.016098   \n",
              "JNJ   0.018020  0.017019  0.020651  0.014182  0.014009  0.016098  0.037289   \n",
              "AAPL  0.019625  0.045106  0.053235  0.027964  0.023722  0.044818  0.015520   \n",
              "AMZN  0.021651  0.042241  0.081347  0.029216  0.023005  0.054367  0.016054   \n",
              "\n",
              "          AAPL      AMZN  \n",
              "PFE   0.019625  0.021651  \n",
              "INTC  0.045106  0.042241  \n",
              "NFLX  0.053235  0.081347  \n",
              "JPM   0.027964  0.029216  \n",
              "XOM   0.023722  0.023005  \n",
              "GOOG  0.044818  0.054367  \n",
              "JNJ   0.015520  0.016054  \n",
              "AAPL  0.075339  0.051474  \n",
              "AMZN  0.051474  0.090549  "
            ],
            "text/html": [
              "\n",
              "  <div id=\"df-a1e271c3-21c9-486b-a25d-2acbcd83878a\">\n",
              "    <div class=\"colab-df-container\">\n",
              "      <div>\n",
              "<style scoped>\n",
              "    .dataframe tbody tr th:only-of-type {\n",
              "        vertical-align: middle;\n",
              "    }\n",
              "\n",
              "    .dataframe tbody tr th {\n",
              "        vertical-align: top;\n",
              "    }\n",
              "\n",
              "    .dataframe thead th {\n",
              "        text-align: right;\n",
              "    }\n",
              "</style>\n",
              "<table border=\"1\" class=\"dataframe\">\n",
              "  <thead>\n",
              "    <tr style=\"text-align: right;\">\n",
              "      <th></th>\n",
              "      <th>PFE</th>\n",
              "      <th>INTC</th>\n",
              "      <th>NFLX</th>\n",
              "      <th>JPM</th>\n",
              "      <th>XOM</th>\n",
              "      <th>GOOG</th>\n",
              "      <th>JNJ</th>\n",
              "      <th>AAPL</th>\n",
              "      <th>AMZN</th>\n",
              "    </tr>\n",
              "  </thead>\n",
              "  <tbody>\n",
              "    <tr>\n",
              "      <th>PFE</th>\n",
              "      <td>0.037543</td>\n",
              "      <td>0.021828</td>\n",
              "      <td>0.026271</td>\n",
              "      <td>0.015839</td>\n",
              "      <td>0.015486</td>\n",
              "      <td>0.018360</td>\n",
              "      <td>0.018020</td>\n",
              "      <td>0.019625</td>\n",
              "      <td>0.021651</td>\n",
              "    </tr>\n",
              "    <tr>\n",
              "      <th>INTC</th>\n",
              "      <td>0.021828</td>\n",
              "      <td>0.093382</td>\n",
              "      <td>0.054225</td>\n",
              "      <td>0.029801</td>\n",
              "      <td>0.027344</td>\n",
              "      <td>0.039652</td>\n",
              "      <td>0.017019</td>\n",
              "      <td>0.045106</td>\n",
              "      <td>0.042241</td>\n",
              "    </tr>\n",
              "    <tr>\n",
              "      <th>NFLX</th>\n",
              "      <td>0.026271</td>\n",
              "      <td>0.054225</td>\n",
              "      <td>0.165240</td>\n",
              "      <td>0.031690</td>\n",
              "      <td>0.027875</td>\n",
              "      <td>0.060178</td>\n",
              "      <td>0.020651</td>\n",
              "      <td>0.053235</td>\n",
              "      <td>0.081347</td>\n",
              "    </tr>\n",
              "    <tr>\n",
              "      <th>JPM</th>\n",
              "      <td>0.015839</td>\n",
              "      <td>0.029801</td>\n",
              "      <td>0.031690</td>\n",
              "      <td>0.041830</td>\n",
              "      <td>0.022273</td>\n",
              "      <td>0.028060</td>\n",
              "      <td>0.014182</td>\n",
              "      <td>0.027964</td>\n",
              "      <td>0.029216</td>\n",
              "    </tr>\n",
              "    <tr>\n",
              "      <th>XOM</th>\n",
              "      <td>0.015486</td>\n",
              "      <td>0.027344</td>\n",
              "      <td>0.027875</td>\n",
              "      <td>0.022273</td>\n",
              "      <td>0.040852</td>\n",
              "      <td>0.024208</td>\n",
              "      <td>0.014009</td>\n",
              "      <td>0.023722</td>\n",
              "      <td>0.023005</td>\n",
              "    </tr>\n",
              "    <tr>\n",
              "      <th>GOOG</th>\n",
              "      <td>0.018360</td>\n",
              "      <td>0.039652</td>\n",
              "      <td>0.060178</td>\n",
              "      <td>0.028060</td>\n",
              "      <td>0.024208</td>\n",
              "      <td>0.068046</td>\n",
              "      <td>0.016098</td>\n",
              "      <td>0.044818</td>\n",
              "      <td>0.054367</td>\n",
              "    </tr>\n",
              "    <tr>\n",
              "      <th>JNJ</th>\n",
              "      <td>0.018020</td>\n",
              "      <td>0.017019</td>\n",
              "      <td>0.020651</td>\n",
              "      <td>0.014182</td>\n",
              "      <td>0.014009</td>\n",
              "      <td>0.016098</td>\n",
              "      <td>0.037289</td>\n",
              "      <td>0.015520</td>\n",
              "      <td>0.016054</td>\n",
              "    </tr>\n",
              "    <tr>\n",
              "      <th>AAPL</th>\n",
              "      <td>0.019625</td>\n",
              "      <td>0.045106</td>\n",
              "      <td>0.053235</td>\n",
              "      <td>0.027964</td>\n",
              "      <td>0.023722</td>\n",
              "      <td>0.044818</td>\n",
              "      <td>0.015520</td>\n",
              "      <td>0.075339</td>\n",
              "      <td>0.051474</td>\n",
              "    </tr>\n",
              "    <tr>\n",
              "      <th>AMZN</th>\n",
              "      <td>0.021651</td>\n",
              "      <td>0.042241</td>\n",
              "      <td>0.081347</td>\n",
              "      <td>0.029216</td>\n",
              "      <td>0.023005</td>\n",
              "      <td>0.054367</td>\n",
              "      <td>0.016054</td>\n",
              "      <td>0.051474</td>\n",
              "      <td>0.090549</td>\n",
              "    </tr>\n",
              "  </tbody>\n",
              "</table>\n",
              "</div>\n",
              "      <button class=\"colab-df-convert\" onclick=\"convertToInteractive('df-a1e271c3-21c9-486b-a25d-2acbcd83878a')\"\n",
              "              title=\"Convert this dataframe to an interactive table.\"\n",
              "              style=\"display:none;\">\n",
              "        \n",
              "  <svg xmlns=\"http://www.w3.org/2000/svg\" height=\"24px\"viewBox=\"0 0 24 24\"\n",
              "       width=\"24px\">\n",
              "    <path d=\"M0 0h24v24H0V0z\" fill=\"none\"/>\n",
              "    <path d=\"M18.56 5.44l.94 2.06.94-2.06 2.06-.94-2.06-.94-.94-2.06-.94 2.06-2.06.94zm-11 1L8.5 8.5l.94-2.06 2.06-.94-2.06-.94L8.5 2.5l-.94 2.06-2.06.94zm10 10l.94 2.06.94-2.06 2.06-.94-2.06-.94-.94-2.06-.94 2.06-2.06.94z\"/><path d=\"M17.41 7.96l-1.37-1.37c-.4-.4-.92-.59-1.43-.59-.52 0-1.04.2-1.43.59L10.3 9.45l-7.72 7.72c-.78.78-.78 2.05 0 2.83L4 21.41c.39.39.9.59 1.41.59.51 0 1.02-.2 1.41-.59l7.78-7.78 2.81-2.81c.8-.78.8-2.07 0-2.86zM5.41 20L4 18.59l7.72-7.72 1.47 1.35L5.41 20z\"/>\n",
              "  </svg>\n",
              "      </button>\n",
              "      \n",
              "  <style>\n",
              "    .colab-df-container {\n",
              "      display:flex;\n",
              "      flex-wrap:wrap;\n",
              "      gap: 12px;\n",
              "    }\n",
              "\n",
              "    .colab-df-convert {\n",
              "      background-color: #E8F0FE;\n",
              "      border: none;\n",
              "      border-radius: 50%;\n",
              "      cursor: pointer;\n",
              "      display: none;\n",
              "      fill: #1967D2;\n",
              "      height: 32px;\n",
              "      padding: 0 0 0 0;\n",
              "      width: 32px;\n",
              "    }\n",
              "\n",
              "    .colab-df-convert:hover {\n",
              "      background-color: #E2EBFA;\n",
              "      box-shadow: 0px 1px 2px rgba(60, 64, 67, 0.3), 0px 1px 3px 1px rgba(60, 64, 67, 0.15);\n",
              "      fill: #174EA6;\n",
              "    }\n",
              "\n",
              "    [theme=dark] .colab-df-convert {\n",
              "      background-color: #3B4455;\n",
              "      fill: #D2E3FC;\n",
              "    }\n",
              "\n",
              "    [theme=dark] .colab-df-convert:hover {\n",
              "      background-color: #434B5C;\n",
              "      box-shadow: 0px 1px 3px 1px rgba(0, 0, 0, 0.15);\n",
              "      filter: drop-shadow(0px 1px 2px rgba(0, 0, 0, 0.3));\n",
              "      fill: #FFFFFF;\n",
              "    }\n",
              "  </style>\n",
              "\n",
              "      <script>\n",
              "        const buttonEl =\n",
              "          document.querySelector('#df-a1e271c3-21c9-486b-a25d-2acbcd83878a button.colab-df-convert');\n",
              "        buttonEl.style.display =\n",
              "          google.colab.kernel.accessAllowed ? 'block' : 'none';\n",
              "\n",
              "        async function convertToInteractive(key) {\n",
              "          const element = document.querySelector('#df-a1e271c3-21c9-486b-a25d-2acbcd83878a');\n",
              "          const dataTable =\n",
              "            await google.colab.kernel.invokeFunction('convertToInteractive',\n",
              "                                                     [key], {});\n",
              "          if (!dataTable) return;\n",
              "\n",
              "          const docLinkHtml = 'Like what you see? Visit the ' +\n",
              "            '<a target=\"_blank\" href=https://colab.research.google.com/notebooks/data_table.ipynb>data table notebook</a>'\n",
              "            + ' to learn more about interactive tables.';\n",
              "          element.innerHTML = '';\n",
              "          dataTable['output_type'] = 'display_data';\n",
              "          await google.colab.output.renderOutput(dataTable, element);\n",
              "          const docLink = document.createElement('div');\n",
              "          docLink.innerHTML = docLinkHtml;\n",
              "          element.appendChild(docLink);\n",
              "        }\n",
              "      </script>\n",
              "    </div>\n",
              "  </div>\n",
              "  "
            ]
          },
          "metadata": {}
        }
      ]
    },
    {
      "cell_type": "markdown",
      "metadata": {
        "id": "Ev3tlQIRYEl3"
      },
      "source": [
        "과거 데이터를 이용한 최적화"
      ]
    },
    {
      "cell_type": "code",
      "metadata": {
        "id": "PDSG0N29TjEU"
      },
      "source": [
        "opt1 = optimize_frontier(R, C, rf)  "
      ],
      "execution_count": null,
      "outputs": []
    },
    {
      "cell_type": "markdown",
      "metadata": {
        "id": "rZgjZ8G0XYuA"
      },
      "source": [
        "블랙-리터만 역최적화"
      ]
    },
    {
      "cell_type": "code",
      "metadata": {
        "id": "WcS64RXYTccP"
      },
      "source": [
        "# 포트폴리오 수익률 평균 및 분산\n",
        "mean = sum(R * W)\n",
        "var = np.dot(np.dot(W, C), W)\n",
        "\n",
        "# 위험회피계수\n",
        "lmbda = (mean - rf) / var  \n",
        "\n",
        "# 균형초과수익률\n",
        "pi = np.dot(np.dot(lmbda, C), W) "
      ],
      "execution_count": null,
      "outputs": []
    },
    {
      "cell_type": "markdown",
      "metadata": {
        "id": "ORxWHtrKX6dI"
      },
      "source": [
        "균형기대수익률로 최적화"
      ]
    },
    {
      "cell_type": "code",
      "metadata": {
        "id": "kSNszEIcXys4"
      },
      "source": [
        "opt2 = optimize_frontier(pi+rf, C, rf)"
      ],
      "execution_count": null,
      "outputs": []
    },
    {
      "cell_type": "markdown",
      "metadata": {
        "id": "4_LySObttiwL"
      },
      "source": [
        "투자자 전망과 기대수익률 그리고 전망의 불확실성 계산"
      ]
    },
    {
      "cell_type": "code",
      "metadata": {
        "id": "vyBg9RlJXNx9"
      },
      "source": [
        "views = [('XOM', '>', 'JPM', 0.02),('NFLX', '<', 'JNJ', 0.02)]\n",
        "Q, P = CreateMatrixPQ(tickers, views)\n",
        "\n",
        "# 위험조정상수\n",
        "tau = .025  \n",
        "\n",
        "# 투자자 전망의 불확실성 계산\n",
        "# tau * P * C * transpose(P)\n",
        "omega = np.dot(np.dot(np.dot(tau, P), C), np.transpose(P))  "
      ],
      "execution_count": null,
      "outputs": []
    },
    {
      "cell_type": "code",
      "metadata": {
        "id": "N6cItYu5hthz",
        "outputId": "170d9fdb-6b32-4ef0-cd7c-21b7b91e8ace",
        "colab": {
          "base_uri": "https://localhost:8080/"
        }
      },
      "source": [
        "\n",
        "print(Q,P)"
      ],
      "execution_count": null,
      "outputs": [
        {
          "output_type": "stream",
          "name": "stdout",
          "text": [
            "[0.02 0.02] [[ 0.  0.  0. -1.  1.  0.  0.  0.  0.]\n",
            " [ 0.  0. -1.  0.  0.  0.  1.  0.  0.]]\n"
          ]
        }
      ]
    },
    {
      "cell_type": "markdown",
      "metadata": {
        "id": "wO1bzVw5T3XA"
      },
      "source": [
        "블랙-리터만 모델 최적화"
      ]
    },
    {
      "cell_type": "code",
      "metadata": {
        "id": "puzVjsCEtsdy"
      },
      "source": [
        "# 투자자 전망과 합쳐진 균형초과수익률 계산\n",
        "bl1 = inv(np.dot(tau, C))\n",
        "bl2 = np.dot(np.dot(np.transpose(P), inv(omega)), P)\n",
        "bl3 = np.dot(inv(np.dot(tau, C)), pi)\n",
        "bl4 = np.dot(np.dot(np.transpose(P), inv(omega)), Q)\n",
        "pi_adj = np.dot(inv(bl1 + bl2), (bl3 + bl4))\n",
        "\n",
        "opt3 = optimize_frontier(pi_adj + rf, C, rf)"
      ],
      "execution_count": null,
      "outputs": []
    },
    {
      "cell_type": "code",
      "metadata": {
        "id": "rXE6G6H1z-c9",
        "outputId": "0d7c20e8-e194-4371-80f4-5831428e9b2a",
        "colab": {
          "base_uri": "https://localhost:8080/",
          "height": 350
        }
      },
      "source": [
        "from IPython.core.display import display, HTML\n",
        "pd.options.display.float_format = '{:.2%}'.format\n",
        "\n",
        "# 1번째 최적화 결과\n",
        "display(HTML('<h2>Historical returns</h2>'))\n",
        "display(pd.DataFrame({'Weight': opt1['weights']}, index=tickers).T)\n",
        "\n",
        "# 2번째 최적화 결과\n",
        "display(HTML('<h2>Implied returns</h2>'))\n",
        "display(pd.DataFrame({'Weight': opt2['weights']}, index=tickers).T)\n",
        "\n",
        "# 3번째 최적화 결과\n",
        "display(HTML('<h2>Implied returns with adjusted views</h2>'))\n",
        "display(pd.DataFrame({'Weight': opt3['weights']}, index=tickers).T)"
      ],
      "execution_count": null,
      "outputs": [
        {
          "output_type": "display_data",
          "data": {
            "text/plain": [
              "<IPython.core.display.HTML object>"
            ],
            "text/html": [
              "<h2>Historical returns</h2>"
            ]
          },
          "metadata": {}
        },
        {
          "output_type": "display_data",
          "data": {
            "text/plain": [
              "         PFE  INTC   NFLX   JPM   XOM  GOOG   JNJ   AAPL  AMZN\n",
              "Weight 0.00% 0.00% 16.66% 3.66% 0.00% 0.00% 0.00% 73.45% 6.23%"
            ],
            "text/html": [
              "\n",
              "  <div id=\"df-1578dd8a-224c-4f56-8801-edd5d80898b0\">\n",
              "    <div class=\"colab-df-container\">\n",
              "      <div>\n",
              "<style scoped>\n",
              "    .dataframe tbody tr th:only-of-type {\n",
              "        vertical-align: middle;\n",
              "    }\n",
              "\n",
              "    .dataframe tbody tr th {\n",
              "        vertical-align: top;\n",
              "    }\n",
              "\n",
              "    .dataframe thead th {\n",
              "        text-align: right;\n",
              "    }\n",
              "</style>\n",
              "<table border=\"1\" class=\"dataframe\">\n",
              "  <thead>\n",
              "    <tr style=\"text-align: right;\">\n",
              "      <th></th>\n",
              "      <th>PFE</th>\n",
              "      <th>INTC</th>\n",
              "      <th>NFLX</th>\n",
              "      <th>JPM</th>\n",
              "      <th>XOM</th>\n",
              "      <th>GOOG</th>\n",
              "      <th>JNJ</th>\n",
              "      <th>AAPL</th>\n",
              "      <th>AMZN</th>\n",
              "    </tr>\n",
              "  </thead>\n",
              "  <tbody>\n",
              "    <tr>\n",
              "      <th>Weight</th>\n",
              "      <td>0.00%</td>\n",
              "      <td>0.00%</td>\n",
              "      <td>16.66%</td>\n",
              "      <td>3.66%</td>\n",
              "      <td>0.00%</td>\n",
              "      <td>0.00%</td>\n",
              "      <td>0.00%</td>\n",
              "      <td>73.45%</td>\n",
              "      <td>6.23%</td>\n",
              "    </tr>\n",
              "  </tbody>\n",
              "</table>\n",
              "</div>\n",
              "      <button class=\"colab-df-convert\" onclick=\"convertToInteractive('df-1578dd8a-224c-4f56-8801-edd5d80898b0')\"\n",
              "              title=\"Convert this dataframe to an interactive table.\"\n",
              "              style=\"display:none;\">\n",
              "        \n",
              "  <svg xmlns=\"http://www.w3.org/2000/svg\" height=\"24px\"viewBox=\"0 0 24 24\"\n",
              "       width=\"24px\">\n",
              "    <path d=\"M0 0h24v24H0V0z\" fill=\"none\"/>\n",
              "    <path d=\"M18.56 5.44l.94 2.06.94-2.06 2.06-.94-2.06-.94-.94-2.06-.94 2.06-2.06.94zm-11 1L8.5 8.5l.94-2.06 2.06-.94-2.06-.94L8.5 2.5l-.94 2.06-2.06.94zm10 10l.94 2.06.94-2.06 2.06-.94-2.06-.94-.94-2.06-.94 2.06-2.06.94z\"/><path d=\"M17.41 7.96l-1.37-1.37c-.4-.4-.92-.59-1.43-.59-.52 0-1.04.2-1.43.59L10.3 9.45l-7.72 7.72c-.78.78-.78 2.05 0 2.83L4 21.41c.39.39.9.59 1.41.59.51 0 1.02-.2 1.41-.59l7.78-7.78 2.81-2.81c.8-.78.8-2.07 0-2.86zM5.41 20L4 18.59l7.72-7.72 1.47 1.35L5.41 20z\"/>\n",
              "  </svg>\n",
              "      </button>\n",
              "      \n",
              "  <style>\n",
              "    .colab-df-container {\n",
              "      display:flex;\n",
              "      flex-wrap:wrap;\n",
              "      gap: 12px;\n",
              "    }\n",
              "\n",
              "    .colab-df-convert {\n",
              "      background-color: #E8F0FE;\n",
              "      border: none;\n",
              "      border-radius: 50%;\n",
              "      cursor: pointer;\n",
              "      display: none;\n",
              "      fill: #1967D2;\n",
              "      height: 32px;\n",
              "      padding: 0 0 0 0;\n",
              "      width: 32px;\n",
              "    }\n",
              "\n",
              "    .colab-df-convert:hover {\n",
              "      background-color: #E2EBFA;\n",
              "      box-shadow: 0px 1px 2px rgba(60, 64, 67, 0.3), 0px 1px 3px 1px rgba(60, 64, 67, 0.15);\n",
              "      fill: #174EA6;\n",
              "    }\n",
              "\n",
              "    [theme=dark] .colab-df-convert {\n",
              "      background-color: #3B4455;\n",
              "      fill: #D2E3FC;\n",
              "    }\n",
              "\n",
              "    [theme=dark] .colab-df-convert:hover {\n",
              "      background-color: #434B5C;\n",
              "      box-shadow: 0px 1px 3px 1px rgba(0, 0, 0, 0.15);\n",
              "      filter: drop-shadow(0px 1px 2px rgba(0, 0, 0, 0.3));\n",
              "      fill: #FFFFFF;\n",
              "    }\n",
              "  </style>\n",
              "\n",
              "      <script>\n",
              "        const buttonEl =\n",
              "          document.querySelector('#df-1578dd8a-224c-4f56-8801-edd5d80898b0 button.colab-df-convert');\n",
              "        buttonEl.style.display =\n",
              "          google.colab.kernel.accessAllowed ? 'block' : 'none';\n",
              "\n",
              "        async function convertToInteractive(key) {\n",
              "          const element = document.querySelector('#df-1578dd8a-224c-4f56-8801-edd5d80898b0');\n",
              "          const dataTable =\n",
              "            await google.colab.kernel.invokeFunction('convertToInteractive',\n",
              "                                                     [key], {});\n",
              "          if (!dataTable) return;\n",
              "\n",
              "          const docLinkHtml = 'Like what you see? Visit the ' +\n",
              "            '<a target=\"_blank\" href=https://colab.research.google.com/notebooks/data_table.ipynb>data table notebook</a>'\n",
              "            + ' to learn more about interactive tables.';\n",
              "          element.innerHTML = '';\n",
              "          dataTable['output_type'] = 'display_data';\n",
              "          await google.colab.output.renderOutput(dataTable, element);\n",
              "          const docLink = document.createElement('div');\n",
              "          docLink.innerHTML = docLinkHtml;\n",
              "          element.appendChild(docLink);\n",
              "        }\n",
              "      </script>\n",
              "    </div>\n",
              "  </div>\n",
              "  "
            ]
          },
          "metadata": {}
        },
        {
          "output_type": "display_data",
          "data": {
            "text/plain": [
              "<IPython.core.display.HTML object>"
            ],
            "text/html": [
              "<h2>Implied returns</h2>"
            ]
          },
          "metadata": {}
        },
        {
          "output_type": "display_data",
          "data": {
            "text/plain": [
              "         PFE  INTC  NFLX   JPM   XOM   GOOG   JNJ   AAPL   AMZN\n",
              "Weight 4.28% 5.40% 3.90% 5.75% 3.73% 18.26% 8.46% 25.43% 24.79%"
            ],
            "text/html": [
              "\n",
              "  <div id=\"df-95e78172-9357-4145-98dd-e6177e91ab80\">\n",
              "    <div class=\"colab-df-container\">\n",
              "      <div>\n",
              "<style scoped>\n",
              "    .dataframe tbody tr th:only-of-type {\n",
              "        vertical-align: middle;\n",
              "    }\n",
              "\n",
              "    .dataframe tbody tr th {\n",
              "        vertical-align: top;\n",
              "    }\n",
              "\n",
              "    .dataframe thead th {\n",
              "        text-align: right;\n",
              "    }\n",
              "</style>\n",
              "<table border=\"1\" class=\"dataframe\">\n",
              "  <thead>\n",
              "    <tr style=\"text-align: right;\">\n",
              "      <th></th>\n",
              "      <th>PFE</th>\n",
              "      <th>INTC</th>\n",
              "      <th>NFLX</th>\n",
              "      <th>JPM</th>\n",
              "      <th>XOM</th>\n",
              "      <th>GOOG</th>\n",
              "      <th>JNJ</th>\n",
              "      <th>AAPL</th>\n",
              "      <th>AMZN</th>\n",
              "    </tr>\n",
              "  </thead>\n",
              "  <tbody>\n",
              "    <tr>\n",
              "      <th>Weight</th>\n",
              "      <td>4.28%</td>\n",
              "      <td>5.40%</td>\n",
              "      <td>3.90%</td>\n",
              "      <td>5.75%</td>\n",
              "      <td>3.73%</td>\n",
              "      <td>18.26%</td>\n",
              "      <td>8.46%</td>\n",
              "      <td>25.43%</td>\n",
              "      <td>24.79%</td>\n",
              "    </tr>\n",
              "  </tbody>\n",
              "</table>\n",
              "</div>\n",
              "      <button class=\"colab-df-convert\" onclick=\"convertToInteractive('df-95e78172-9357-4145-98dd-e6177e91ab80')\"\n",
              "              title=\"Convert this dataframe to an interactive table.\"\n",
              "              style=\"display:none;\">\n",
              "        \n",
              "  <svg xmlns=\"http://www.w3.org/2000/svg\" height=\"24px\"viewBox=\"0 0 24 24\"\n",
              "       width=\"24px\">\n",
              "    <path d=\"M0 0h24v24H0V0z\" fill=\"none\"/>\n",
              "    <path d=\"M18.56 5.44l.94 2.06.94-2.06 2.06-.94-2.06-.94-.94-2.06-.94 2.06-2.06.94zm-11 1L8.5 8.5l.94-2.06 2.06-.94-2.06-.94L8.5 2.5l-.94 2.06-2.06.94zm10 10l.94 2.06.94-2.06 2.06-.94-2.06-.94-.94-2.06-.94 2.06-2.06.94z\"/><path d=\"M17.41 7.96l-1.37-1.37c-.4-.4-.92-.59-1.43-.59-.52 0-1.04.2-1.43.59L10.3 9.45l-7.72 7.72c-.78.78-.78 2.05 0 2.83L4 21.41c.39.39.9.59 1.41.59.51 0 1.02-.2 1.41-.59l7.78-7.78 2.81-2.81c.8-.78.8-2.07 0-2.86zM5.41 20L4 18.59l7.72-7.72 1.47 1.35L5.41 20z\"/>\n",
              "  </svg>\n",
              "      </button>\n",
              "      \n",
              "  <style>\n",
              "    .colab-df-container {\n",
              "      display:flex;\n",
              "      flex-wrap:wrap;\n",
              "      gap: 12px;\n",
              "    }\n",
              "\n",
              "    .colab-df-convert {\n",
              "      background-color: #E8F0FE;\n",
              "      border: none;\n",
              "      border-radius: 50%;\n",
              "      cursor: pointer;\n",
              "      display: none;\n",
              "      fill: #1967D2;\n",
              "      height: 32px;\n",
              "      padding: 0 0 0 0;\n",
              "      width: 32px;\n",
              "    }\n",
              "\n",
              "    .colab-df-convert:hover {\n",
              "      background-color: #E2EBFA;\n",
              "      box-shadow: 0px 1px 2px rgba(60, 64, 67, 0.3), 0px 1px 3px 1px rgba(60, 64, 67, 0.15);\n",
              "      fill: #174EA6;\n",
              "    }\n",
              "\n",
              "    [theme=dark] .colab-df-convert {\n",
              "      background-color: #3B4455;\n",
              "      fill: #D2E3FC;\n",
              "    }\n",
              "\n",
              "    [theme=dark] .colab-df-convert:hover {\n",
              "      background-color: #434B5C;\n",
              "      box-shadow: 0px 1px 3px 1px rgba(0, 0, 0, 0.15);\n",
              "      filter: drop-shadow(0px 1px 2px rgba(0, 0, 0, 0.3));\n",
              "      fill: #FFFFFF;\n",
              "    }\n",
              "  </style>\n",
              "\n",
              "      <script>\n",
              "        const buttonEl =\n",
              "          document.querySelector('#df-95e78172-9357-4145-98dd-e6177e91ab80 button.colab-df-convert');\n",
              "        buttonEl.style.display =\n",
              "          google.colab.kernel.accessAllowed ? 'block' : 'none';\n",
              "\n",
              "        async function convertToInteractive(key) {\n",
              "          const element = document.querySelector('#df-95e78172-9357-4145-98dd-e6177e91ab80');\n",
              "          const dataTable =\n",
              "            await google.colab.kernel.invokeFunction('convertToInteractive',\n",
              "                                                     [key], {});\n",
              "          if (!dataTable) return;\n",
              "\n",
              "          const docLinkHtml = 'Like what you see? Visit the ' +\n",
              "            '<a target=\"_blank\" href=https://colab.research.google.com/notebooks/data_table.ipynb>data table notebook</a>'\n",
              "            + ' to learn more about interactive tables.';\n",
              "          element.innerHTML = '';\n",
              "          dataTable['output_type'] = 'display_data';\n",
              "          await google.colab.output.renderOutput(dataTable, element);\n",
              "          const docLink = document.createElement('div');\n",
              "          docLink.innerHTML = docLinkHtml;\n",
              "          element.appendChild(docLink);\n",
              "        }\n",
              "      </script>\n",
              "    </div>\n",
              "  </div>\n",
              "  "
            ]
          },
          "metadata": {}
        },
        {
          "output_type": "display_data",
          "data": {
            "text/plain": [
              "<IPython.core.display.HTML object>"
            ],
            "text/html": [
              "<h2>Implied returns with adjusted views</h2>"
            ]
          },
          "metadata": {}
        },
        {
          "output_type": "display_data",
          "data": {
            "text/plain": [
              "         PFE  INTC  NFLX   JPM    XOM   GOOG    JNJ   AAPL   AMZN\n",
              "Weight 3.11% 3.58% 0.00% 0.00% 11.95% 15.66% 21.94% 25.62% 18.13%"
            ],
            "text/html": [
              "\n",
              "  <div id=\"df-78e796d4-2a53-4b8f-88c0-55570172bc51\">\n",
              "    <div class=\"colab-df-container\">\n",
              "      <div>\n",
              "<style scoped>\n",
              "    .dataframe tbody tr th:only-of-type {\n",
              "        vertical-align: middle;\n",
              "    }\n",
              "\n",
              "    .dataframe tbody tr th {\n",
              "        vertical-align: top;\n",
              "    }\n",
              "\n",
              "    .dataframe thead th {\n",
              "        text-align: right;\n",
              "    }\n",
              "</style>\n",
              "<table border=\"1\" class=\"dataframe\">\n",
              "  <thead>\n",
              "    <tr style=\"text-align: right;\">\n",
              "      <th></th>\n",
              "      <th>PFE</th>\n",
              "      <th>INTC</th>\n",
              "      <th>NFLX</th>\n",
              "      <th>JPM</th>\n",
              "      <th>XOM</th>\n",
              "      <th>GOOG</th>\n",
              "      <th>JNJ</th>\n",
              "      <th>AAPL</th>\n",
              "      <th>AMZN</th>\n",
              "    </tr>\n",
              "  </thead>\n",
              "  <tbody>\n",
              "    <tr>\n",
              "      <th>Weight</th>\n",
              "      <td>3.11%</td>\n",
              "      <td>3.58%</td>\n",
              "      <td>0.00%</td>\n",
              "      <td>0.00%</td>\n",
              "      <td>11.95%</td>\n",
              "      <td>15.66%</td>\n",
              "      <td>21.94%</td>\n",
              "      <td>25.62%</td>\n",
              "      <td>18.13%</td>\n",
              "    </tr>\n",
              "  </tbody>\n",
              "</table>\n",
              "</div>\n",
              "      <button class=\"colab-df-convert\" onclick=\"convertToInteractive('df-78e796d4-2a53-4b8f-88c0-55570172bc51')\"\n",
              "              title=\"Convert this dataframe to an interactive table.\"\n",
              "              style=\"display:none;\">\n",
              "        \n",
              "  <svg xmlns=\"http://www.w3.org/2000/svg\" height=\"24px\"viewBox=\"0 0 24 24\"\n",
              "       width=\"24px\">\n",
              "    <path d=\"M0 0h24v24H0V0z\" fill=\"none\"/>\n",
              "    <path d=\"M18.56 5.44l.94 2.06.94-2.06 2.06-.94-2.06-.94-.94-2.06-.94 2.06-2.06.94zm-11 1L8.5 8.5l.94-2.06 2.06-.94-2.06-.94L8.5 2.5l-.94 2.06-2.06.94zm10 10l.94 2.06.94-2.06 2.06-.94-2.06-.94-.94-2.06-.94 2.06-2.06.94z\"/><path d=\"M17.41 7.96l-1.37-1.37c-.4-.4-.92-.59-1.43-.59-.52 0-1.04.2-1.43.59L10.3 9.45l-7.72 7.72c-.78.78-.78 2.05 0 2.83L4 21.41c.39.39.9.59 1.41.59.51 0 1.02-.2 1.41-.59l7.78-7.78 2.81-2.81c.8-.78.8-2.07 0-2.86zM5.41 20L4 18.59l7.72-7.72 1.47 1.35L5.41 20z\"/>\n",
              "  </svg>\n",
              "      </button>\n",
              "      \n",
              "  <style>\n",
              "    .colab-df-container {\n",
              "      display:flex;\n",
              "      flex-wrap:wrap;\n",
              "      gap: 12px;\n",
              "    }\n",
              "\n",
              "    .colab-df-convert {\n",
              "      background-color: #E8F0FE;\n",
              "      border: none;\n",
              "      border-radius: 50%;\n",
              "      cursor: pointer;\n",
              "      display: none;\n",
              "      fill: #1967D2;\n",
              "      height: 32px;\n",
              "      padding: 0 0 0 0;\n",
              "      width: 32px;\n",
              "    }\n",
              "\n",
              "    .colab-df-convert:hover {\n",
              "      background-color: #E2EBFA;\n",
              "      box-shadow: 0px 1px 2px rgba(60, 64, 67, 0.3), 0px 1px 3px 1px rgba(60, 64, 67, 0.15);\n",
              "      fill: #174EA6;\n",
              "    }\n",
              "\n",
              "    [theme=dark] .colab-df-convert {\n",
              "      background-color: #3B4455;\n",
              "      fill: #D2E3FC;\n",
              "    }\n",
              "\n",
              "    [theme=dark] .colab-df-convert:hover {\n",
              "      background-color: #434B5C;\n",
              "      box-shadow: 0px 1px 3px 1px rgba(0, 0, 0, 0.15);\n",
              "      filter: drop-shadow(0px 1px 2px rgba(0, 0, 0, 0.3));\n",
              "      fill: #FFFFFF;\n",
              "    }\n",
              "  </style>\n",
              "\n",
              "      <script>\n",
              "        const buttonEl =\n",
              "          document.querySelector('#df-78e796d4-2a53-4b8f-88c0-55570172bc51 button.colab-df-convert');\n",
              "        buttonEl.style.display =\n",
              "          google.colab.kernel.accessAllowed ? 'block' : 'none';\n",
              "\n",
              "        async function convertToInteractive(key) {\n",
              "          const element = document.querySelector('#df-78e796d4-2a53-4b8f-88c0-55570172bc51');\n",
              "          const dataTable =\n",
              "            await google.colab.kernel.invokeFunction('convertToInteractive',\n",
              "                                                     [key], {});\n",
              "          if (!dataTable) return;\n",
              "\n",
              "          const docLinkHtml = 'Like what you see? Visit the ' +\n",
              "            '<a target=\"_blank\" href=https://colab.research.google.com/notebooks/data_table.ipynb>data table notebook</a>'\n",
              "            + ' to learn more about interactive tables.';\n",
              "          element.innerHTML = '';\n",
              "          dataTable['output_type'] = 'display_data';\n",
              "          await google.colab.output.renderOutput(dataTable, element);\n",
              "          const docLink = document.createElement('div');\n",
              "          docLink.innerHTML = docLinkHtml;\n",
              "          element.appendChild(docLink);\n",
              "        }\n",
              "      </script>\n",
              "    </div>\n",
              "  </div>\n",
              "  "
            ]
          },
          "metadata": {}
        }
      ]
    },
    {
      "cell_type": "code",
      "metadata": {
        "id": "Sc_InPMtXj8w"
      },
      "source": [
        "def plotAssets(tickers, R, C, color='black'):\n",
        "    # 포트폴리오 구성자산 출력\n",
        "    plt.scatter([C[i, i] ** .5 for i in range(n)], R, marker='x', color=color)  \n",
        "    for i in range(n): \n",
        "        plt.text(C[i, i] ** .5, R[i], '  %s' % tickers[i], verticalalignment='center', color=color) \n",
        "\n",
        "def plotFrontier(result, label=None, color='black'):\n",
        "    # 최적화된 효율적 프런티어 출력\n",
        "    plt.text(result['tan_var'] ** .5, result['tan_mean'], 'tangent', verticalalignment='center', color=color)\n",
        "    plt.scatter(result['tan_var'] ** .5, result['tan_mean'], marker='o', color=color)\n",
        "    plt.plot(result['eff_var'] ** .5, result['eff_mean'], label=label, color=color, linewidth=2, marker='D', markersize=9) "
      ],
      "execution_count": null,
      "outputs": []
    },
    {
      "cell_type": "code",
      "metadata": {
        "id": "QwsXjQnta0gq",
        "outputId": "fb8027cd-5edd-4b53-87a9-53825f83524b",
        "colab": {
          "base_uri": "https://localhost:8080/",
          "height": 297
        }
      },
      "source": [
        "# 1번째 최적화 결과를 차트로 출력\n",
        "plotAssets(tickers, R, C, color='blue')\n",
        "plotFrontier(opt1, label='Historical returns', color='blue')\n",
        "\n",
        "# 2번째 최적화 결과를 차트로 출력\n",
        "plotAssets(tickers, pi+rf, C, color='green')\n",
        "plotFrontier(opt2, label='Implied returns', color='green')\n",
        "\n",
        "# 3번째 최적화 결과를 차트로 출력\n",
        "plotAssets(tickers, pi_adj+rf, C, color='red')\n",
        "plotFrontier(opt3, label='Implied returns (adjusted views)', color='red')\n",
        "\n",
        "# 차트에 공통된 속성을 지정한다(차트크기, 제목, 범례, 축이름 등)\n",
        "plt.rcParams[\"figure.figsize\"] = (12, 10)\n",
        "plt.grid(alpha=0.3, color='gray', linestyle='--', linewidth=1)\n",
        "plt.title('Portfolio optimization')\n",
        "plt.legend(['Historical returns(blue)', 'Implied returns(green)','Implied returns with adjusted views(red)'])\n",
        "plt.xlabel('Variance $\\sigma$')\n",
        "plt.ylabel('Mean $\\mu$')\n",
        "plt.show()"
      ],
      "execution_count": null,
      "outputs": [
        {
          "output_type": "display_data",
          "data": {
            "text/plain": [
              "<Figure size 432x288 with 1 Axes>"
            ],
            "image/png": "[encoded data removed]"
          },
          "metadata": {
            "needs_background": "light"
          }
        }
      ]
    }
  ]
}